{
 "cells": [
  {
   "cell_type": "code",
   "execution_count": 11,
   "metadata": {
    "collapsed": true,
    "pycharm": {
     "name": "#%%\n"
    }
   },
   "outputs": [],
   "source": [
    "import numpy as np\n",
    "import pandas as pd\n",
    "import seaborn as sns\n",
    "import matplotlib.pyplot as plt"
   ]
  },
  {
   "cell_type": "code",
   "execution_count": 15,
   "outputs": [],
   "source": [
    "plt.rcParams['figure.figsize'] = [8,5]\n",
    "plt.rcParams['font.size'] = 14\n",
    "plt.rcParams['font.weight'] = 'bold'"
   ],
   "metadata": {
    "collapsed": false,
    "pycharm": {
     "name": "#%%\n"
    }
   }
  },
  {
   "cell_type": "code",
   "execution_count": 16,
   "outputs": [
    {
     "name": "stdout",
     "output_type": "stream",
     "text": [
      "[[2.08500e+05 7.00000e+00 8.56000e+02 8.00000e+00 2.00300e+03 6.50000e+01]\n",
      " [1.81500e+05 6.00000e+00 1.26200e+03 6.00000e+00 1.97600e+03 8.00000e+01]\n",
      " [2.23500e+05 7.00000e+00 9.20000e+02 6.00000e+00 2.00100e+03 6.80000e+01]\n",
      " ...\n",
      " [2.66500e+05 7.00000e+00 1.18800e+03 9.00000e+00 1.94100e+03 6.60000e+01]\n",
      " [1.42125e+05 5.00000e+00 1.07800e+03 5.00000e+00 1.95000e+03 6.80000e+01]\n",
      " [1.47500e+05 5.00000e+00 1.25600e+03 6.00000e+00 1.96500e+03 7.50000e+01]]\n",
      "(1460, 6)\n",
      "2\n",
      "float64\n",
      "8760\n"
     ]
    }
   ],
   "source": [
    "data = np.load('proyecto_training_data.npy')\n",
    "print(data)\n",
    "print(data.shape)\n",
    "print(data.ndim)\n",
    "print(data.dtype)\n",
    "print(data.size)"
   ],
   "metadata": {
    "collapsed": false,
    "pycharm": {
     "name": "#%%\n"
    }
   }
  },
  {
   "cell_type": "code",
   "execution_count": 17,
   "outputs": [
    {
     "name": "stdout",
     "output_type": "stream",
     "text": [
      "      salePrice  overallQual  1stFlrSf  totRmsAbvGrd  yearBuilt  lotFrontage\n",
      "0      208500.0          7.0     856.0           8.0     2003.0         65.0\n",
      "1      181500.0          6.0    1262.0           6.0     1976.0         80.0\n",
      "2      223500.0          7.0     920.0           6.0     2001.0         68.0\n",
      "3      140000.0          7.0     961.0           7.0     1915.0         60.0\n",
      "4      250000.0          8.0    1145.0           9.0     2000.0         84.0\n",
      "...         ...          ...       ...           ...        ...          ...\n",
      "1455   175000.0          6.0     953.0           7.0     1999.0         62.0\n",
      "1456   210000.0          6.0    2073.0           7.0     1978.0         85.0\n",
      "1457   266500.0          7.0    1188.0           9.0     1941.0         66.0\n",
      "1458   142125.0          5.0    1078.0           5.0     1950.0         68.0\n",
      "1459   147500.0          5.0    1256.0           6.0     1965.0         75.0\n",
      "\n",
      "[1460 rows x 6 columns]\n"
     ]
    }
   ],
   "source": [
    "df = pd.DataFrame(data, columns=['salePrice', 'overallQual', '1stFlrSf', 'totRmsAbvGrd', 'yearBuilt', 'lotFrontage'])\n",
    "print(df)"
   ],
   "metadata": {
    "collapsed": false,
    "pycharm": {
     "name": "#%%\n"
    }
   }
  },
  {
   "cell_type": "code",
   "execution_count": 18,
   "outputs": [
    {
     "data": {
      "text/plain": "           salePrice  overallQual     1stFlrSf  totRmsAbvGrd    yearBuilt  \\\ncount    1460.000000  1460.000000  1460.000000   1460.000000  1460.000000   \nmean   180921.195890     6.099315  1162.626712      6.517808  1971.267808   \nstd     79442.502883     1.382997   386.587738      1.625393    30.202904   \nmin     34900.000000     1.000000   334.000000      2.000000  1872.000000   \n25%    129975.000000     5.000000   882.000000      5.000000  1954.000000   \n50%    163000.000000     6.000000  1087.000000      6.000000  1973.000000   \n75%    214000.000000     7.000000  1391.250000      7.000000  2000.000000   \nmax    755000.000000    10.000000  4692.000000     14.000000  2010.000000   \n\n       lotFrontage  \ncount  1201.000000  \nmean     70.049958  \nstd      24.284752  \nmin      21.000000  \n25%      59.000000  \n50%      69.000000  \n75%      80.000000  \nmax     313.000000  ",
      "text/html": "<div>\n<style scoped>\n    .dataframe tbody tr th:only-of-type {\n        vertical-align: middle;\n    }\n\n    .dataframe tbody tr th {\n        vertical-align: top;\n    }\n\n    .dataframe thead th {\n        text-align: right;\n    }\n</style>\n<table border=\"1\" class=\"dataframe\">\n  <thead>\n    <tr style=\"text-align: right;\">\n      <th></th>\n      <th>salePrice</th>\n      <th>overallQual</th>\n      <th>1stFlrSf</th>\n      <th>totRmsAbvGrd</th>\n      <th>yearBuilt</th>\n      <th>lotFrontage</th>\n    </tr>\n  </thead>\n  <tbody>\n    <tr>\n      <th>count</th>\n      <td>1460.000000</td>\n      <td>1460.000000</td>\n      <td>1460.000000</td>\n      <td>1460.000000</td>\n      <td>1460.000000</td>\n      <td>1201.000000</td>\n    </tr>\n    <tr>\n      <th>mean</th>\n      <td>180921.195890</td>\n      <td>6.099315</td>\n      <td>1162.626712</td>\n      <td>6.517808</td>\n      <td>1971.267808</td>\n      <td>70.049958</td>\n    </tr>\n    <tr>\n      <th>std</th>\n      <td>79442.502883</td>\n      <td>1.382997</td>\n      <td>386.587738</td>\n      <td>1.625393</td>\n      <td>30.202904</td>\n      <td>24.284752</td>\n    </tr>\n    <tr>\n      <th>min</th>\n      <td>34900.000000</td>\n      <td>1.000000</td>\n      <td>334.000000</td>\n      <td>2.000000</td>\n      <td>1872.000000</td>\n      <td>21.000000</td>\n    </tr>\n    <tr>\n      <th>25%</th>\n      <td>129975.000000</td>\n      <td>5.000000</td>\n      <td>882.000000</td>\n      <td>5.000000</td>\n      <td>1954.000000</td>\n      <td>59.000000</td>\n    </tr>\n    <tr>\n      <th>50%</th>\n      <td>163000.000000</td>\n      <td>6.000000</td>\n      <td>1087.000000</td>\n      <td>6.000000</td>\n      <td>1973.000000</td>\n      <td>69.000000</td>\n    </tr>\n    <tr>\n      <th>75%</th>\n      <td>214000.000000</td>\n      <td>7.000000</td>\n      <td>1391.250000</td>\n      <td>7.000000</td>\n      <td>2000.000000</td>\n      <td>80.000000</td>\n    </tr>\n    <tr>\n      <th>max</th>\n      <td>755000.000000</td>\n      <td>10.000000</td>\n      <td>4692.000000</td>\n      <td>14.000000</td>\n      <td>2010.000000</td>\n      <td>313.000000</td>\n    </tr>\n  </tbody>\n</table>\n</div>"
     },
     "execution_count": 18,
     "metadata": {},
     "output_type": "execute_result"
    }
   ],
   "source": [
    "df.describe()"
   ],
   "metadata": {
    "collapsed": false,
    "pycharm": {
     "name": "#%%\n"
    }
   }
  },
  {
   "cell_type": "code",
   "execution_count": 19,
   "outputs": [
    {
     "data": {
      "text/plain": "Text(0.5, 1.0, 'Null values')"
     },
     "execution_count": 19,
     "metadata": {},
     "output_type": "execute_result"
    },
    {
     "data": {
      "text/plain": "<Figure size 1200x400 with 1 Axes>",
      "image/png": "[encoded data removed]"
     },
     "metadata": {},
     "output_type": "display_data"
    }
   ],
   "source": [
    "plt.figure(figsize=(12,4))\n",
    "sns.heatmap(df.isnull(), cbar=False, cmap='viridis', yticklabels=False)\n",
    "plt.title('Null values')"
   ],
   "metadata": {
    "collapsed": false,
    "pycharm": {
     "name": "#%%\n"
    }
   }
  },
  {
   "cell_type": "code",
   "execution_count": 20,
   "outputs": [
    {
     "data": {
      "text/plain": "salePrice         0\noverallQual       0\n1stFlrSf          0\ntotRmsAbvGrd      0\nyearBuilt         0\nlotFrontage     259\ndtype: int64"
     },
     "execution_count": 20,
     "metadata": {},
     "output_type": "execute_result"
    }
   ],
   "source": [
    "df.isna().sum()"
   ],
   "metadata": {
    "collapsed": false,
    "pycharm": {
     "name": "#%%\n"
    }
   }
  },
  {
   "cell_type": "code",
   "execution_count": null,
   "outputs": [],
   "source": [],
   "metadata": {
    "collapsed": false,
    "pycharm": {
     "name": "#%%\n"
    }
   }
  }
 ],
 "metadata": {
  "kernelspec": {
   "display_name": "Python 3",
   "language": "python",
   "name": "python3"
  },
  "language_info": {
   "codemirror_mode": {
    "name": "ipython",
    "version": 2
   },
   "file_extension": ".py",
   "mimetype": "text/x-python",
   "name": "python",
   "nbconvert_exporter": "python",
   "pygments_lexer": "ipython2",
   "version": "2.7.6"
  }
 },
 "nbformat": 4,
 "nbformat_minor": 0
}